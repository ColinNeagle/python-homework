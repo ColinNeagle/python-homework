{
 "cells": [
  {
   "cell_type": "code",
   "execution_count": 31,
   "metadata": {
    "tags": []
   },
   "outputs": [
    {
     "name": "stdout",
     "output_type": "stream",
     "text": [
      "Total Months: 86\n",
      "Total: 38382578.00\n",
      "Change: -2315.1176470588234\n",
      "Greatest Increase: 1926159\n",
      "Greatest Decrease: -2196167\n"
     ]
    }
   ],
   "source": [
    "# PyBank Homework \n",
    "# setup required library \n",
    "from pathlib import Path\n",
    "import csv\n",
    "import numpy as np\n",
    "# setup file extraction\n",
    "fileloc = Path(\"Resources/budget_data.csv\")\n",
    "\n",
    "with open(fileloc,\"r\") as csvfile:\n",
    "    # print(csv.reader(csvfile))\n",
    "    # print(type(csvfile))\n",
    "\n",
    "    readfile = csv.reader(csvfile, delimiter = \",\")\n",
    "    # print (type(readfile))\n",
    "\n",
    "    \n",
    "    #line 2 to git rid of titles\n",
    "    titles=next(readfile)\n",
    "    old_row = next(readfile)\n",
    "    \n",
    "#defining change\n",
    "    num_months = 1\n",
    "    ttl_pnl = int(old_row[1])\n",
    "    change = 0\n",
    "    prev_net = int(old_row[1])\n",
    "    net_change = []\n",
    "    \n",
    "    # for loop to search for ttl months\n",
    "    for line in readfile:\n",
    "        #print (type(readfile))\n",
    "\n",
    "        num_months =num_months+1 \n",
    "\n",
    "        pnl = int(line[1])\n",
    "        ttl_pnl = ttl_pnl + pnl\n",
    "        change = int(line[1])-prev_net\n",
    "        #print(change)\n",
    "        net_change.append(change)\n",
    "        prev_net = int(line[1])\n",
    "\n",
    "    \n",
    "\n",
    "        #  diff month 2 pnl -month 1, m 3 -m2, etc\n",
    "        #lastmonth =pnl\n",
    "        #change = pnl-lastmonth\n",
    "        #if lastmonth = pnl \n",
    "\n",
    "        \n",
    "       # print to verify answers\n",
    "\n",
    "    print(f\"Total Months: {num_months}\")\n",
    "    print(\"Total: {0:.2f}\".format(ttl_pnl))\n",
    "    print(f\"Change: {sum(net_change)/len(net_change)}\")\n",
    "    \n",
    "    print(f\"Greatest Increase: {max(net_change)}\")\n",
    "    print(f\"Greatest Decrease: {min(net_change)}\")\n",
    "\n",
    "    #write to txt file\n",
    "    filewrite = open(\"output.txt\",\"w+\")\n",
    "    filewrite.write(f\"Total Months: {num_months}  Total {ttl_pnl}\")\n",
    "    filewrite.write(f\"    Greatest Increase in Profits: {max(net_change)}\")\n",
    "    filewrite.write(f\"    Greatest Decrease in Profits: {min(net_change)}\")\n",
    "   \n",
    "\n",
    "    filewrite.close()\n",
    "\n",
    "   \n",
    "    \n",
    "\n",
    "\n",
    "\n",
    "\n",
    "\n",
    "     \n",
    "\n",
    "\n",
    "\n",
    "    \n",
    "\n"
   ]
  },
  {
   "cell_type": "code",
   "execution_count": 29,
   "metadata": {
    "collapsed": true,
    "jupyter": {
     "outputs_hidden": true
    }
   },
   "outputs": [
    {
     "data": {
      "text/plain": [
       "-2196167"
      ]
     },
     "execution_count": 29,
     "metadata": {},
     "output_type": "execute_result"
    }
   ],
   "source": []
  },
  {
   "cell_type": "code",
   "execution_count": 5,
   "metadata": {
    "collapsed": true,
    "jupyter": {
     "outputs_hidden": true,
     "source_hidden": true
    }
   },
   "outputs": [
    {
     "data": {
      "text/plain": [
       "1926159"
      ]
     },
     "execution_count": 5,
     "metadata": {},
     "output_type": "execute_result"
    }
   ],
   "source": []
  },
  {
   "cell_type": "code",
   "execution_count": null,
   "metadata": {},
   "outputs": [],
   "source": []
  }
 ],
 "metadata": {
  "kernelspec": {
   "display_name": "Python 3",
   "language": "python",
   "name": "python3"
  },
  "language_info": {
   "codemirror_mode": {
    "name": "ipython",
    "version": 3
   },
   "file_extension": ".py",
   "mimetype": "text/x-python",
   "name": "python",
   "nbconvert_exporter": "python",
   "pygments_lexer": "ipython3",
   "version": "3.8.3"
  }
 },
 "nbformat": 4,
 "nbformat_minor": 4
}
