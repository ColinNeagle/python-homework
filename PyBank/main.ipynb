{
 "metadata": {
  "language_info": {
   "codemirror_mode": {
    "name": "ipython",
    "version": 3
   },
   "file_extension": ".py",
   "mimetype": "text/x-python",
   "name": "python",
   "nbconvert_exporter": "python",
   "pygments_lexer": "ipython3",
   "version": "3.8.3-final"
  },
  "orig_nbformat": 2,
  "kernelspec": {
   "name": "python_defaultSpec_1600647023541",
   "display_name": "Python 3.8.3 64-bit ('base': conda)"
  }
 },
 "nbformat": 4,
 "nbformat_minor": 2,
 "cells": [
  {
   "cell_type": "code",
   "execution_count": 38,
   "metadata": {
    "tags": []
   },
   "outputs": [
    {
     "output_type": "stream",
     "name": "stdout",
     "text": "Total Months: 86\nTotal: 38382578.00\n"
    }
   ],
   "source": [
    "# PyBank Homework \n",
    "# setup required library \n",
    "from pathlib import Path\n",
    "import csv\n",
    "# setup file extraction\n",
    "fileloc = Path(\"Resources/budget_data.csv\")\n",
    "\n",
    "with open(fileloc,\"r\") as csvfile:\n",
    "    # print(csv.reader(csvfile))\n",
    "    # print(type(csvfile))\n",
    "\n",
    "    readfile = csv.reader(csvfile, delimiter = \",\")\n",
    "    # print (type(readfile))\n",
    "\n",
    "    # for loop to search for ttl months\n",
    "    #line 2 to git rid of titles\n",
    "    titles=next(readfile)\n",
    "\n",
    "    num_months = 0\n",
    "    ttl_pnl =0\n",
    "    change = 0\n",
    "\n",
    "    for line in readfile:\n",
    "        #print (type(readfile))\n",
    "\n",
    "        num_months =num_months+1 \n",
    "\n",
    "        pnl = int(line[1])\n",
    "        ttl_pnl = ttl_pnl + pnl\n",
    "\n",
    "        #  diff month 2 pnl -month 1, m 3 -m2, etc\n",
    "        #lastmonth =pnl\n",
    "        #change = pnl-lastmonth\n",
    "        #if lastmonth = pnl \n",
    "\n",
    "\n",
    "\n",
    "       # print(change) \n",
    "\n",
    "\n",
    "    print(f\"Total Months: {num_months}\")\n",
    "    print(\"Total: {0:.2f}\".format(ttl_pnl))\n",
    "\n",
    "    #write to txt file\n",
    "    filewrite = open(\"output.txt\",\"w+\")\n",
    "    filewrite.write(f\"Total Months: {num_months} Total {ttl_pnl}\")\n",
    "   \n",
    "\n",
    "   \n",
    "\n",
    "    filewrite.close()\n",
    "    \n",
    "\n",
    "   \n",
    "    \n",
    "\n",
    "\n",
    "\n",
    "\n",
    "\n",
    "     \n",
    "\n",
    "\n",
    "\n",
    "    \n",
    "\n"
   ]
  },
  {
   "cell_type": "code",
   "execution_count": null,
   "metadata": {},
   "outputs": [],
   "source": []
  }
 ]
}